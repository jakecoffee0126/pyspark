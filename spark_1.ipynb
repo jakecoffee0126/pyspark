{
 "cells": [
  {
   "cell_type": "code",
   "execution_count": 1,
   "id": "02729a7c",
   "metadata": {},
   "outputs": [],
   "source": [
    "import pyspark"
   ]
  },
  {
   "cell_type": "code",
   "execution_count": 3,
   "id": "281d2c2f",
   "metadata": {},
   "outputs": [
    {
     "data": {
      "text/plain": [
       "pandas.core.frame.DataFrame"
      ]
     },
     "execution_count": 3,
     "metadata": {},
     "output_type": "execute_result"
    }
   ],
   "source": [
    "import pandas as pd\n",
    "type(pd.read_csv('Orders.csv'))"
   ]
  },
  {
   "cell_type": "code",
   "execution_count": 4,
   "id": "f8053837",
   "metadata": {},
   "outputs": [],
   "source": [
    "from pyspark.sql import SparkSession"
   ]
  },
  {
   "cell_type": "code",
   "execution_count": null,
   "id": "71a70f40",
   "metadata": {},
   "outputs": [],
   "source": [
    "# Gets an existing SparkSession or, if there is no existing one, \n",
    "# creates a new one based on the options set in this builder.\n",
    "spark=SparkSession.builder.appName('Practice').getOrCreate()"
   ]
  },
  {
   "cell_type": "code",
   "execution_count": 6,
   "id": "1b007e0b",
   "metadata": {},
   "outputs": [
    {
     "data": {
      "text/html": [
       "\n",
       "            <div>\n",
       "                <p><b>SparkSession - in-memory</b></p>\n",
       "                \n",
       "        <div>\n",
       "            <p><b>SparkContext</b></p>\n",
       "\n",
       "            <p><a href=\"http://Jake-PC.lan:4040\">Spark UI</a></p>\n",
       "\n",
       "            <dl>\n",
       "              <dt>Version</dt>\n",
       "                <dd><code>v4.0.0</code></dd>\n",
       "              <dt>Master</dt>\n",
       "                <dd><code>local[*]</code></dd>\n",
       "              <dt>AppName</dt>\n",
       "                <dd><code>Practice</code></dd>\n",
       "            </dl>\n",
       "        </div>\n",
       "        \n",
       "            </div>\n",
       "        "
      ],
      "text/plain": [
       "<pyspark.sql.session.SparkSession at 0x19fb22517f0>"
      ]
     },
     "execution_count": 6,
     "metadata": {},
     "output_type": "execute_result"
    }
   ],
   "source": [
    "spark"
   ]
  },
  {
   "cell_type": "code",
   "execution_count": 7,
   "id": "a421c4ca",
   "metadata": {},
   "outputs": [],
   "source": [
    "df_pyspark=spark.read.csv('Orders.csv')"
   ]
  },
  {
   "cell_type": "code",
   "execution_count": 8,
   "id": "b1949a03",
   "metadata": {},
   "outputs": [
    {
     "data": {
      "text/plain": [
       "DataFrame[_c0: string, _c1: string, _c2: string, _c3: string, _c4: string, _c5: string, _c6: string, _c7: string, _c8: string, _c9: string, _c10: string, _c11: string]"
      ]
     },
     "execution_count": 8,
     "metadata": {},
     "output_type": "execute_result"
    }
   ],
   "source": [
    "df_pyspark"
   ]
  },
  {
   "cell_type": "code",
   "execution_count": 9,
   "id": "bfc4603f",
   "metadata": {},
   "outputs": [
    {
     "name": "stdout",
     "output_type": "stream",
     "text": [
      "+-------+---------+----------+-------------+----------+----------+-----------+------------------+-------------+--------+-----+--------------------+\n",
      "|    _c0|      _c1|       _c2|          _c3|       _c4|       _c5|        _c6|               _c7|          _c8|     _c9| _c10|                _c11|\n",
      "+-------+---------+----------+-------------+----------+----------+-----------+------------------+-------------+--------+-----+--------------------+\n",
      "|OrderID|ProductID|CustomerID|SalesPersonID| OrderDate|  ShipDate|OrderStatus|       ShipAddress|  BillAddress|Quantity|Sales|        CreationTime|\n",
      "|      1|      101|         2|            3|2025-01-01|2025-01-05|  Delivered|9833 Mt. Dias Blv.|1226 Shoe St.|       1|   10|2025-01-01 12:34:...|\n",
      "|      2|      102|         3|            3|2025-01-05|2025-01-10|    Shipped|    250 Race Court|         NULL|       1|   15|2025-01-05 23:22:...|\n",
      "|      3|      101|         1|            5|2025-01-10|2025-01-25|  Delivered|      8157 W. Book| 8157 W. Book|       2|   20|2025-01-10 18:24:...|\n",
      "|      4|      105|         1|            3|2025-01-20|2025-01-25|    Shipped| 5724 Victory Lane|         NULL|       2|   60|2025-01-20 05:50:...|\n",
      "|      5|      104|         2|            5|2025-02-01|2025-02-05|  Delivered|              NULL|         NULL|       1|   25|2025-02-01 14:02:...|\n",
      "|      6|      104|         3|            5|2025-02-05|2025-02-10|  Delivered|  1792 Belmont Rd.|         NULL|       2|   50|2025-02-06 15:34:...|\n",
      "|      7|      102|         1|            1|2025-02-15|2025-02-27|  Delivered|  136 Balboa Court|         NULL|       2|   30|2025-02-16 06:22:...|\n",
      "|      8|      101|         4|            3|2025-02-18|2025-02-27|    Shipped|    2947 Vine Lane| 4311 Clay Rd|       3|   90|2025-02-18 10:45:...|\n",
      "|      9|      101|         2|            3|2025-03-10|2025-03-15|    Shipped|     3768 Door Way|         NULL|       2|   20|2025-03-10 12:59:...|\n",
      "|     10|      102|         3|            5|2025-03-15|2025-03-20|    Shipped|              NULL|         NULL|       0|   60|2025-03-16 23:25:...|\n",
      "+-------+---------+----------+-------------+----------+----------+-----------+------------------+-------------+--------+-----+--------------------+\n",
      "\n"
     ]
    }
   ],
   "source": [
    "df_pyspark.show()"
   ]
  },
  {
   "cell_type": "code",
   "execution_count": 14,
   "id": "0f212aad",
   "metadata": {},
   "outputs": [],
   "source": [
    "df_pyspark = spark.read.option('header','true').csv('Orders.csv')"
   ]
  },
  {
   "cell_type": "code",
   "execution_count": 15,
   "id": "4cde519c",
   "metadata": {},
   "outputs": [
    {
     "name": "stdout",
     "output_type": "stream",
     "text": [
      "+-------+---------+----------+-------------+----------+----------+-----------+------------------+-------------+--------+-----+--------------------+\n",
      "|OrderID|ProductID|CustomerID|SalesPersonID| OrderDate|  ShipDate|OrderStatus|       ShipAddress|  BillAddress|Quantity|Sales|        CreationTime|\n",
      "+-------+---------+----------+-------------+----------+----------+-----------+------------------+-------------+--------+-----+--------------------+\n",
      "|      1|      101|         2|            3|2025-01-01|2025-01-05|  Delivered|9833 Mt. Dias Blv.|1226 Shoe St.|       1|   10|2025-01-01 12:34:...|\n",
      "|      2|      102|         3|            3|2025-01-05|2025-01-10|    Shipped|    250 Race Court|         NULL|       1|   15|2025-01-05 23:22:...|\n",
      "|      3|      101|         1|            5|2025-01-10|2025-01-25|  Delivered|      8157 W. Book| 8157 W. Book|       2|   20|2025-01-10 18:24:...|\n",
      "|      4|      105|         1|            3|2025-01-20|2025-01-25|    Shipped| 5724 Victory Lane|         NULL|       2|   60|2025-01-20 05:50:...|\n",
      "|      5|      104|         2|            5|2025-02-01|2025-02-05|  Delivered|              NULL|         NULL|       1|   25|2025-02-01 14:02:...|\n",
      "|      6|      104|         3|            5|2025-02-05|2025-02-10|  Delivered|  1792 Belmont Rd.|         NULL|       2|   50|2025-02-06 15:34:...|\n",
      "|      7|      102|         1|            1|2025-02-15|2025-02-27|  Delivered|  136 Balboa Court|         NULL|       2|   30|2025-02-16 06:22:...|\n",
      "|      8|      101|         4|            3|2025-02-18|2025-02-27|    Shipped|    2947 Vine Lane| 4311 Clay Rd|       3|   90|2025-02-18 10:45:...|\n",
      "|      9|      101|         2|            3|2025-03-10|2025-03-15|    Shipped|     3768 Door Way|         NULL|       2|   20|2025-03-10 12:59:...|\n",
      "|     10|      102|         3|            5|2025-03-15|2025-03-20|    Shipped|              NULL|         NULL|       0|   60|2025-03-16 23:25:...|\n",
      "+-------+---------+----------+-------------+----------+----------+-----------+------------------+-------------+--------+-----+--------------------+\n",
      "\n"
     ]
    }
   ],
   "source": [
    "df_pyspark.show()"
   ]
  },
  {
   "cell_type": "code",
   "execution_count": 16,
   "id": "9f086ac5",
   "metadata": {},
   "outputs": [
    {
     "data": {
      "text/plain": [
       "[Row(OrderID='1', ProductID='101', CustomerID='2', SalesPersonID='3', OrderDate='2025-01-01', ShipDate='2025-01-05', OrderStatus='Delivered', ShipAddress='9833 Mt. Dias Blv.', BillAddress='1226 Shoe St.', Quantity='1', Sales='10', CreationTime='2025-01-01 12:34:56.0000000'),\n",
       " Row(OrderID='2', ProductID='102', CustomerID='3', SalesPersonID='3', OrderDate='2025-01-05', ShipDate='2025-01-10', OrderStatus='Shipped', ShipAddress='250 Race Court', BillAddress=None, Quantity='1', Sales='15', CreationTime='2025-01-05 23:22:04.0000000'),\n",
       " Row(OrderID='3', ProductID='101', CustomerID='1', SalesPersonID='5', OrderDate='2025-01-10', ShipDate='2025-01-25', OrderStatus='Delivered', ShipAddress='8157 W. Book', BillAddress='8157 W. Book', Quantity='2', Sales='20', CreationTime='2025-01-10 18:24:08.0000000')]"
      ]
     },
     "execution_count": 16,
     "metadata": {},
     "output_type": "execute_result"
    }
   ],
   "source": [
    "df_pyspark.head(3)"
   ]
  },
  {
   "cell_type": "code",
   "execution_count": 17,
   "id": "52cc1505",
   "metadata": {},
   "outputs": [
    {
     "name": "stdout",
     "output_type": "stream",
     "text": [
      "root\n",
      " |-- OrderID: string (nullable = true)\n",
      " |-- ProductID: string (nullable = true)\n",
      " |-- CustomerID: string (nullable = true)\n",
      " |-- SalesPersonID: string (nullable = true)\n",
      " |-- OrderDate: string (nullable = true)\n",
      " |-- ShipDate: string (nullable = true)\n",
      " |-- OrderStatus: string (nullable = true)\n",
      " |-- ShipAddress: string (nullable = true)\n",
      " |-- BillAddress: string (nullable = true)\n",
      " |-- Quantity: string (nullable = true)\n",
      " |-- Sales: string (nullable = true)\n",
      " |-- CreationTime: string (nullable = true)\n",
      "\n"
     ]
    }
   ],
   "source": [
    "df_pyspark.printSchema()"
   ]
  },
  {
   "cell_type": "code",
   "execution_count": null,
   "id": "25df4eac",
   "metadata": {},
   "outputs": [],
   "source": []
  }
 ],
 "metadata": {
  "kernelspec": {
   "display_name": "Python 3",
   "language": "python",
   "name": "python3"
  },
  "language_info": {
   "codemirror_mode": {
    "name": "ipython",
    "version": 3
   },
   "file_extension": ".py",
   "mimetype": "text/x-python",
   "name": "python",
   "nbconvert_exporter": "python",
   "pygments_lexer": "ipython3",
   "version": "3.13.7"
  }
 },
 "nbformat": 4,
 "nbformat_minor": 5
}
