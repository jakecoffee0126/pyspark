{
 "cells": [
  {
   "cell_type": "code",
   "execution_count": 2,
   "id": "b3ac2009",
   "metadata": {},
   "outputs": [
    {
     "data": {
      "text/plain": [
       "'\\nPySpark Dataframe\\nReading The Dataset\\nChecking the Datatypes of the Column(Schema)\\nSelecting Columns And Indexing\\nCheck Describe option similar to Pandas\\nAdding Columns\\nDropping columns\\nRenaming \\n'"
      ]
     },
     "execution_count": 2,
     "metadata": {},
     "output_type": "execute_result"
    }
   ],
   "source": [
    "'''\n",
    "PySpark Dataframe\n",
    "Reading The Dataset\n",
    "Checking the Datatypes of the Column(Schema)\n",
    "Selecting Columns And Indexing\n",
    "Check Describe option similar to Pandas\n",
    "Adding Columns\n",
    "Dropping columns\n",
    "Renaming \n",
    "'''"
   ]
  },
  {
   "cell_type": "code",
   "execution_count": 3,
   "id": "0f8797ce",
   "metadata": {},
   "outputs": [],
   "source": [
    "from pyspark.sql import SparkSession   "
   ]
  },
  {
   "cell_type": "code",
   "execution_count": 4,
   "id": "ab334871",
   "metadata": {},
   "outputs": [],
   "source": [
    "spark = SparkSession.builder.appName(\"Dataframe\").getOrCreate()"
   ]
  },
  {
   "cell_type": "code",
   "execution_count": 5,
   "id": "f5590f53",
   "metadata": {},
   "outputs": [
    {
     "data": {
      "text/html": [
       "\n",
       "            <div>\n",
       "                <p><b>SparkSession - in-memory</b></p>\n",
       "                \n",
       "        <div>\n",
       "            <p><b>SparkContext</b></p>\n",
       "\n",
       "            <p><a href=\"http://Jake-PC.lan:4041\">Spark UI</a></p>\n",
       "\n",
       "            <dl>\n",
       "              <dt>Version</dt>\n",
       "                <dd><code>v4.0.0</code></dd>\n",
       "              <dt>Master</dt>\n",
       "                <dd><code>local[*]</code></dd>\n",
       "              <dt>AppName</dt>\n",
       "                <dd><code>Dataframe</code></dd>\n",
       "            </dl>\n",
       "        </div>\n",
       "        \n",
       "            </div>\n",
       "        "
      ],
      "text/plain": [
       "<pyspark.sql.session.SparkSession at 0x2bae37f82f0>"
      ]
     },
     "execution_count": 5,
     "metadata": {},
     "output_type": "execute_result"
    }
   ],
   "source": [
    "spark"
   ]
  },
  {
   "cell_type": "code",
   "execution_count": 6,
   "id": "0b2e6fa8",
   "metadata": {},
   "outputs": [],
   "source": [
    "## read the dataset\n",
    "df_pyspark = spark.read.option('header','true').csv('Orders.csv',inferSchema=True)"
   ]
  },
  {
   "cell_type": "code",
   "execution_count": 7,
   "id": "61fbb039",
   "metadata": {},
   "outputs": [
    {
     "name": "stdout",
     "output_type": "stream",
     "text": [
      "root\n",
      " |-- OrderID: integer (nullable = true)\n",
      " |-- ProductID: integer (nullable = true)\n",
      " |-- CustomerID: integer (nullable = true)\n",
      " |-- SalesPersonID: integer (nullable = true)\n",
      " |-- OrderDate: date (nullable = true)\n",
      " |-- ShipDate: date (nullable = true)\n",
      " |-- OrderStatus: string (nullable = true)\n",
      " |-- ShipAddress: string (nullable = true)\n",
      " |-- BillAddress: string (nullable = true)\n",
      " |-- Quantity: integer (nullable = true)\n",
      " |-- Sales: integer (nullable = true)\n",
      " |-- CreationTime: timestamp (nullable = true)\n",
      "\n"
     ]
    }
   ],
   "source": [
    "### chck the schema\n",
    "df_pyspark.printSchema()"
   ]
  },
  {
   "cell_type": "code",
   "execution_count": 8,
   "id": "870862f4",
   "metadata": {},
   "outputs": [],
   "source": [
    "\n",
    "# Using inferSchema=false (default option) will give a dataframe where all columns are strings\n",
    "df_pyspark=spark.read.csv('Orders.csv', header=True, inferSchema=True)"
   ]
  },
  {
   "cell_type": "code",
   "execution_count": 9,
   "id": "33f7ce72",
   "metadata": {},
   "outputs": [
    {
     "name": "stdout",
     "output_type": "stream",
     "text": [
      "+-------+---------+----------+-------------+----------+----------+-----------+------------------+-------------+--------+-----+-------------------+\n",
      "|OrderID|ProductID|CustomerID|SalesPersonID| OrderDate|  ShipDate|OrderStatus|       ShipAddress|  BillAddress|Quantity|Sales|       CreationTime|\n",
      "+-------+---------+----------+-------------+----------+----------+-----------+------------------+-------------+--------+-----+-------------------+\n",
      "|      1|      101|         2|            3|2025-01-01|2025-01-05|  Delivered|9833 Mt. Dias Blv.|1226 Shoe St.|       1|   10|2025-01-01 12:34:56|\n",
      "|      2|      102|         3|            3|2025-01-05|2025-01-10|    Shipped|    250 Race Court|         NULL|       1|   15|2025-01-05 23:22:04|\n",
      "|      3|      101|         1|            5|2025-01-10|2025-01-25|  Delivered|      8157 W. Book| 8157 W. Book|       2|   20|2025-01-10 18:24:08|\n",
      "|      4|      105|         1|            3|2025-01-20|2025-01-25|    Shipped| 5724 Victory Lane|         NULL|       2|   60|2025-01-20 05:50:33|\n",
      "|      5|      104|         2|            5|2025-02-01|2025-02-05|  Delivered|              NULL|         NULL|       1|   25|2025-02-01 14:02:41|\n",
      "|      6|      104|         3|            5|2025-02-05|2025-02-10|  Delivered|  1792 Belmont Rd.|         NULL|       2| NULL|2025-02-06 15:34:57|\n",
      "|      7|      102|         1|            1|2025-02-15|2025-02-27|  Delivered|  136 Balboa Court|         NULL|       2|   30|2025-02-16 06:22:01|\n",
      "|      8|      101|         4|            3|2025-02-18|2025-02-27|    Shipped|    2947 Vine Lane| 4311 Clay Rd|       3|   90|2025-02-18 10:45:22|\n",
      "|      9|      101|         2|            3|2025-03-10|2025-03-15|    Shipped|     3768 Door Way|         NULL|       2|   20|2025-03-10 12:59:04|\n",
      "|     10|      102|         3|            5|2025-03-15|2025-03-20|    Shipped|              NULL|         NULL|       0|   60|2025-03-16 23:25:15|\n",
      "+-------+---------+----------+-------------+----------+----------+-----------+------------------+-------------+--------+-----+-------------------+\n",
      "\n"
     ]
    }
   ],
   "source": [
    "df_pyspark.show()"
   ]
  },
  {
   "cell_type": "code",
   "execution_count": 10,
   "id": "ffe411c6",
   "metadata": {},
   "outputs": [
    {
     "name": "stdout",
     "output_type": "stream",
     "text": [
      "root\n",
      " |-- OrderID: integer (nullable = true)\n",
      " |-- ProductID: integer (nullable = true)\n",
      " |-- CustomerID: integer (nullable = true)\n",
      " |-- SalesPersonID: integer (nullable = true)\n",
      " |-- OrderDate: date (nullable = true)\n",
      " |-- ShipDate: date (nullable = true)\n",
      " |-- OrderStatus: string (nullable = true)\n",
      " |-- ShipAddress: string (nullable = true)\n",
      " |-- BillAddress: string (nullable = true)\n",
      " |-- Quantity: integer (nullable = true)\n",
      " |-- Sales: integer (nullable = true)\n",
      " |-- CreationTime: timestamp (nullable = true)\n",
      "\n"
     ]
    }
   ],
   "source": [
    "df_pyspark.printSchema()"
   ]
  },
  {
   "cell_type": "code",
   "execution_count": 11,
   "id": "e1f1357c",
   "metadata": {},
   "outputs": [
    {
     "data": {
      "text/plain": [
       "pyspark.sql.classic.dataframe.DataFrame"
      ]
     },
     "execution_count": 11,
     "metadata": {},
     "output_type": "execute_result"
    }
   ],
   "source": [
    "type(df_pyspark)"
   ]
  },
  {
   "cell_type": "code",
   "execution_count": 12,
   "id": "d5436ae0",
   "metadata": {},
   "outputs": [
    {
     "data": {
      "text/plain": [
       "['OrderID',\n",
       " 'ProductID',\n",
       " 'CustomerID',\n",
       " 'SalesPersonID',\n",
       " 'OrderDate',\n",
       " 'ShipDate',\n",
       " 'OrderStatus',\n",
       " 'ShipAddress',\n",
       " 'BillAddress',\n",
       " 'Quantity',\n",
       " 'Sales',\n",
       " 'CreationTime']"
      ]
     },
     "execution_count": 12,
     "metadata": {},
     "output_type": "execute_result"
    }
   ],
   "source": [
    "df_pyspark.columns"
   ]
  },
  {
   "cell_type": "code",
   "execution_count": 13,
   "id": "1b31832a",
   "metadata": {},
   "outputs": [
    {
     "data": {
      "text/plain": [
       "[Row(OrderID=1, ProductID=101, CustomerID=2, SalesPersonID=3, OrderDate=datetime.date(2025, 1, 1), ShipDate=datetime.date(2025, 1, 5), OrderStatus='Delivered', ShipAddress='9833 Mt. Dias Blv.', BillAddress='1226 Shoe St.', Quantity=1, Sales=10, CreationTime=datetime.datetime(2025, 1, 1, 12, 34, 56)),\n",
       " Row(OrderID=2, ProductID=102, CustomerID=3, SalesPersonID=3, OrderDate=datetime.date(2025, 1, 5), ShipDate=datetime.date(2025, 1, 10), OrderStatus='Shipped', ShipAddress='250 Race Court', BillAddress=None, Quantity=1, Sales=15, CreationTime=datetime.datetime(2025, 1, 5, 23, 22, 4))]"
      ]
     },
     "execution_count": 13,
     "metadata": {},
     "output_type": "execute_result"
    }
   ],
   "source": [
    "df_pyspark.head(2)"
   ]
  },
  {
   "cell_type": "code",
   "execution_count": 14,
   "id": "f1cccc34",
   "metadata": {},
   "outputs": [
    {
     "name": "stdout",
     "output_type": "stream",
     "text": [
      "+-------+---------+----------+-------------+----------+----------+-----------+------------------+-------------+--------+-----+-------------------+\n",
      "|OrderID|ProductID|CustomerID|SalesPersonID| OrderDate|  ShipDate|OrderStatus|       ShipAddress|  BillAddress|Quantity|Sales|       CreationTime|\n",
      "+-------+---------+----------+-------------+----------+----------+-----------+------------------+-------------+--------+-----+-------------------+\n",
      "|      1|      101|         2|            3|2025-01-01|2025-01-05|  Delivered|9833 Mt. Dias Blv.|1226 Shoe St.|       1|   10|2025-01-01 12:34:56|\n",
      "|      2|      102|         3|            3|2025-01-05|2025-01-10|    Shipped|    250 Race Court|         NULL|       1|   15|2025-01-05 23:22:04|\n",
      "|      3|      101|         1|            5|2025-01-10|2025-01-25|  Delivered|      8157 W. Book| 8157 W. Book|       2|   20|2025-01-10 18:24:08|\n",
      "|      4|      105|         1|            3|2025-01-20|2025-01-25|    Shipped| 5724 Victory Lane|         NULL|       2|   60|2025-01-20 05:50:33|\n",
      "|      5|      104|         2|            5|2025-02-01|2025-02-05|  Delivered|              NULL|         NULL|       1|   25|2025-02-01 14:02:41|\n",
      "|      6|      104|         3|            5|2025-02-05|2025-02-10|  Delivered|  1792 Belmont Rd.|         NULL|       2| NULL|2025-02-06 15:34:57|\n",
      "|      7|      102|         1|            1|2025-02-15|2025-02-27|  Delivered|  136 Balboa Court|         NULL|       2|   30|2025-02-16 06:22:01|\n",
      "|      8|      101|         4|            3|2025-02-18|2025-02-27|    Shipped|    2947 Vine Lane| 4311 Clay Rd|       3|   90|2025-02-18 10:45:22|\n",
      "|      9|      101|         2|            3|2025-03-10|2025-03-15|    Shipped|     3768 Door Way|         NULL|       2|   20|2025-03-10 12:59:04|\n",
      "|     10|      102|         3|            5|2025-03-15|2025-03-20|    Shipped|              NULL|         NULL|       0|   60|2025-03-16 23:25:15|\n",
      "+-------+---------+----------+-------------+----------+----------+-----------+------------------+-------------+--------+-----+-------------------+\n",
      "\n"
     ]
    }
   ],
   "source": [
    "df_pyspark.show()"
   ]
  },
  {
   "cell_type": "code",
   "execution_count": 15,
   "id": "dddc352a",
   "metadata": {},
   "outputs": [
    {
     "name": "stdout",
     "output_type": "stream",
     "text": [
      "+-------+\n",
      "|OrderID|\n",
      "+-------+\n",
      "|      1|\n",
      "|      2|\n",
      "|      3|\n",
      "|      4|\n",
      "|      5|\n",
      "|      6|\n",
      "|      7|\n",
      "|      8|\n",
      "|      9|\n",
      "|     10|\n",
      "+-------+\n",
      "\n"
     ]
    }
   ],
   "source": [
    "df_pyspark.select('OrderID').show()"
   ]
  },
  {
   "cell_type": "code",
   "execution_count": 16,
   "id": "7514eefd",
   "metadata": {},
   "outputs": [
    {
     "data": {
      "text/plain": [
       "['OrderID',\n",
       " 'ProductID',\n",
       " 'CustomerID',\n",
       " 'SalesPersonID',\n",
       " 'OrderDate',\n",
       " 'ShipDate',\n",
       " 'OrderStatus',\n",
       " 'ShipAddress',\n",
       " 'BillAddress',\n",
       " 'Quantity',\n",
       " 'Sales',\n",
       " 'CreationTime']"
      ]
     },
     "execution_count": 16,
     "metadata": {},
     "output_type": "execute_result"
    }
   ],
   "source": [
    "df_pyspark.columns\n"
   ]
  },
  {
   "cell_type": "code",
   "execution_count": 17,
   "id": "dee24e4a",
   "metadata": {},
   "outputs": [
    {
     "data": {
      "text/plain": [
       "DataFrame[ShipDate: date, OrderStatus: string]"
      ]
     },
     "execution_count": 17,
     "metadata": {},
     "output_type": "execute_result"
    }
   ],
   "source": [
    "df_pyspark.select(['ShipDate', 'OrderStatus'])"
   ]
  },
  {
   "cell_type": "code",
   "execution_count": 18,
   "id": "ebba6de6",
   "metadata": {},
   "outputs": [
    {
     "name": "stdout",
     "output_type": "stream",
     "text": [
      "+-------+---------+----------+-------------+----------+----------+-----------+------------------+-------------+--------+-----+-------------------+\n",
      "|OrderID|ProductID|CustomerID|SalesPersonID| OrderDate|  ShipDate|OrderStatus|       ShipAddress|  BillAddress|Quantity|Sales|       CreationTime|\n",
      "+-------+---------+----------+-------------+----------+----------+-----------+------------------+-------------+--------+-----+-------------------+\n",
      "|      1|      101|         2|            3|2025-01-01|2025-01-05|  Delivered|9833 Mt. Dias Blv.|1226 Shoe St.|       1|   10|2025-01-01 12:34:56|\n",
      "|      2|      102|         3|            3|2025-01-05|2025-01-10|    Shipped|    250 Race Court|         NULL|       1|   15|2025-01-05 23:22:04|\n",
      "|      3|      101|         1|            5|2025-01-10|2025-01-25|  Delivered|      8157 W. Book| 8157 W. Book|       2|   20|2025-01-10 18:24:08|\n",
      "|      4|      105|         1|            3|2025-01-20|2025-01-25|    Shipped| 5724 Victory Lane|         NULL|       2|   60|2025-01-20 05:50:33|\n",
      "|      5|      104|         2|            5|2025-02-01|2025-02-05|  Delivered|              NULL|         NULL|       1|   25|2025-02-01 14:02:41|\n",
      "|      6|      104|         3|            5|2025-02-05|2025-02-10|  Delivered|  1792 Belmont Rd.|         NULL|       2| NULL|2025-02-06 15:34:57|\n",
      "|      7|      102|         1|            1|2025-02-15|2025-02-27|  Delivered|  136 Balboa Court|         NULL|       2|   30|2025-02-16 06:22:01|\n",
      "|      8|      101|         4|            3|2025-02-18|2025-02-27|    Shipped|    2947 Vine Lane| 4311 Clay Rd|       3|   90|2025-02-18 10:45:22|\n",
      "|      9|      101|         2|            3|2025-03-10|2025-03-15|    Shipped|     3768 Door Way|         NULL|       2|   20|2025-03-10 12:59:04|\n",
      "|     10|      102|         3|            5|2025-03-15|2025-03-20|    Shipped|              NULL|         NULL|       0|   60|2025-03-16 23:25:15|\n",
      "+-------+---------+----------+-------------+----------+----------+-----------+------------------+-------------+--------+-----+-------------------+\n",
      "\n"
     ]
    }
   ],
   "source": [
    "df_pyspark.select('*').show()"
   ]
  },
  {
   "cell_type": "code",
   "execution_count": 19,
   "id": "50c93449",
   "metadata": {},
   "outputs": [
    {
     "name": "stdout",
     "output_type": "stream",
     "text": [
      "+-------+---------+\n",
      "|OrderID|New_Sales|\n",
      "+-------+---------+\n",
      "|      1|       15|\n",
      "|      2|       20|\n",
      "|      3|       25|\n",
      "|      4|       65|\n",
      "|      5|       30|\n",
      "|      6|     NULL|\n",
      "|      7|       35|\n",
      "|      8|       95|\n",
      "|      9|       25|\n",
      "|     10|       65|\n",
      "+-------+---------+\n",
      "\n"
     ]
    }
   ],
   "source": [
    "df_pyspark.select(df_pyspark.OrderID, (df_pyspark.Sales + 5).alias('New_Sales')).show()"
   ]
  },
  {
   "cell_type": "code",
   "execution_count": 20,
   "id": "0db44dc7",
   "metadata": {},
   "outputs": [
    {
     "data": {
      "text/plain": [
       "[('OrderID', 'int'),\n",
       " ('ProductID', 'int'),\n",
       " ('CustomerID', 'int'),\n",
       " ('SalesPersonID', 'int'),\n",
       " ('OrderDate', 'date'),\n",
       " ('ShipDate', 'date'),\n",
       " ('OrderStatus', 'string'),\n",
       " ('ShipAddress', 'string'),\n",
       " ('BillAddress', 'string'),\n",
       " ('Quantity', 'int'),\n",
       " ('Sales', 'int'),\n",
       " ('CreationTime', 'timestamp')]"
      ]
     },
     "execution_count": 20,
     "metadata": {},
     "output_type": "execute_result"
    }
   ],
   "source": [
    "df_pyspark.dtypes"
   ]
  },
  {
   "cell_type": "code",
   "execution_count": 21,
   "id": "a77e7af3",
   "metadata": {},
   "outputs": [
    {
     "name": "stdout",
     "output_type": "stream",
     "text": [
      "+-------+------------------+------------------+------------------+------------------+-----------+------------------+-------------+------------------+------------------+\n",
      "|summary|           OrderID|         ProductID|        CustomerID|     SalesPersonID|OrderStatus|       ShipAddress|  BillAddress|          Quantity|             Sales|\n",
      "+-------+------------------+------------------+------------------+------------------+-----------+------------------+-------------+------------------+------------------+\n",
      "|  count|                10|                10|                10|                10|         10|                 8|            3|                10|                 9|\n",
      "|   mean|               5.5|             102.3|               2.2|               3.6|       NULL|              NULL|         NULL|               1.6|36.666666666666664|\n",
      "| stddev|3.0276503540974917|1.4944341180973266|1.0327955589886444|1.3498971154211057|       NULL|              NULL|         NULL|0.8432740427115678| 27.04163456597992|\n",
      "|    min|                 1|               101|                 1|                 1|  Delivered|  136 Balboa Court|1226 Shoe St.|                 0|                10|\n",
      "|    max|                10|               105|                 4|                 5|    Shipped|9833 Mt. Dias Blv.| 8157 W. Book|                 3|                90|\n",
      "+-------+------------------+------------------+------------------+------------------+-----------+------------------+-------------+------------------+------------------+\n",
      "\n"
     ]
    }
   ],
   "source": [
    "df_pyspark.describe().show()"
   ]
  },
  {
   "cell_type": "code",
   "execution_count": 22,
   "id": "63803b60",
   "metadata": {},
   "outputs": [],
   "source": [
    "### Adding Columns in data frame\n",
    "df_pyspark=df_pyspark.withColumn('After Sales', df_pyspark['Sales'] + 10)"
   ]
  },
  {
   "cell_type": "code",
   "execution_count": 23,
   "id": "512ad61d",
   "metadata": {},
   "outputs": [
    {
     "name": "stdout",
     "output_type": "stream",
     "text": [
      "+-------+---------+----------+-------------+----------+----------+-----------+------------------+-------------+--------+-----+-------------------+-----------+\n",
      "|OrderID|ProductID|CustomerID|SalesPersonID| OrderDate|  ShipDate|OrderStatus|       ShipAddress|  BillAddress|Quantity|Sales|       CreationTime|After Sales|\n",
      "+-------+---------+----------+-------------+----------+----------+-----------+------------------+-------------+--------+-----+-------------------+-----------+\n",
      "|      1|      101|         2|            3|2025-01-01|2025-01-05|  Delivered|9833 Mt. Dias Blv.|1226 Shoe St.|       1|   10|2025-01-01 12:34:56|         20|\n",
      "|      2|      102|         3|            3|2025-01-05|2025-01-10|    Shipped|    250 Race Court|         NULL|       1|   15|2025-01-05 23:22:04|         25|\n",
      "|      3|      101|         1|            5|2025-01-10|2025-01-25|  Delivered|      8157 W. Book| 8157 W. Book|       2|   20|2025-01-10 18:24:08|         30|\n",
      "|      4|      105|         1|            3|2025-01-20|2025-01-25|    Shipped| 5724 Victory Lane|         NULL|       2|   60|2025-01-20 05:50:33|         70|\n",
      "|      5|      104|         2|            5|2025-02-01|2025-02-05|  Delivered|              NULL|         NULL|       1|   25|2025-02-01 14:02:41|         35|\n",
      "|      6|      104|         3|            5|2025-02-05|2025-02-10|  Delivered|  1792 Belmont Rd.|         NULL|       2| NULL|2025-02-06 15:34:57|       NULL|\n",
      "|      7|      102|         1|            1|2025-02-15|2025-02-27|  Delivered|  136 Balboa Court|         NULL|       2|   30|2025-02-16 06:22:01|         40|\n",
      "|      8|      101|         4|            3|2025-02-18|2025-02-27|    Shipped|    2947 Vine Lane| 4311 Clay Rd|       3|   90|2025-02-18 10:45:22|        100|\n",
      "|      9|      101|         2|            3|2025-03-10|2025-03-15|    Shipped|     3768 Door Way|         NULL|       2|   20|2025-03-10 12:59:04|         30|\n",
      "|     10|      102|         3|            5|2025-03-15|2025-03-20|    Shipped|              NULL|         NULL|       0|   60|2025-03-16 23:25:15|         70|\n",
      "+-------+---------+----------+-------------+----------+----------+-----------+------------------+-------------+--------+-----+-------------------+-----------+\n",
      "\n"
     ]
    }
   ],
   "source": [
    "df_pyspark.show()"
   ]
  },
  {
   "cell_type": "code",
   "execution_count": 24,
   "id": "8c484cbf",
   "metadata": {},
   "outputs": [],
   "source": [
    "df_pyspark = df_pyspark.drop('After Sales')"
   ]
  },
  {
   "cell_type": "code",
   "execution_count": 25,
   "id": "d28fcdcb",
   "metadata": {},
   "outputs": [
    {
     "name": "stdout",
     "output_type": "stream",
     "text": [
      "+-------+---------+----------+-------------+----------+----------+-----------+------------------+-------------+--------+-----+-------------------+\n",
      "|OrderID|ProductID|CustomerID|SalesPersonID| OrderDate|  ShipDate|OrderStatus|       ShipAddress|  BillAddress|Quantity|Sales|       CreationTime|\n",
      "+-------+---------+----------+-------------+----------+----------+-----------+------------------+-------------+--------+-----+-------------------+\n",
      "|      1|      101|         2|            3|2025-01-01|2025-01-05|  Delivered|9833 Mt. Dias Blv.|1226 Shoe St.|       1|   10|2025-01-01 12:34:56|\n",
      "|      2|      102|         3|            3|2025-01-05|2025-01-10|    Shipped|    250 Race Court|         NULL|       1|   15|2025-01-05 23:22:04|\n",
      "|      3|      101|         1|            5|2025-01-10|2025-01-25|  Delivered|      8157 W. Book| 8157 W. Book|       2|   20|2025-01-10 18:24:08|\n",
      "|      4|      105|         1|            3|2025-01-20|2025-01-25|    Shipped| 5724 Victory Lane|         NULL|       2|   60|2025-01-20 05:50:33|\n",
      "|      5|      104|         2|            5|2025-02-01|2025-02-05|  Delivered|              NULL|         NULL|       1|   25|2025-02-01 14:02:41|\n",
      "|      6|      104|         3|            5|2025-02-05|2025-02-10|  Delivered|  1792 Belmont Rd.|         NULL|       2| NULL|2025-02-06 15:34:57|\n",
      "|      7|      102|         1|            1|2025-02-15|2025-02-27|  Delivered|  136 Balboa Court|         NULL|       2|   30|2025-02-16 06:22:01|\n",
      "|      8|      101|         4|            3|2025-02-18|2025-02-27|    Shipped|    2947 Vine Lane| 4311 Clay Rd|       3|   90|2025-02-18 10:45:22|\n",
      "|      9|      101|         2|            3|2025-03-10|2025-03-15|    Shipped|     3768 Door Way|         NULL|       2|   20|2025-03-10 12:59:04|\n",
      "|     10|      102|         3|            5|2025-03-15|2025-03-20|    Shipped|              NULL|         NULL|       0|   60|2025-03-16 23:25:15|\n",
      "+-------+---------+----------+-------------+----------+----------+-----------+------------------+-------------+--------+-----+-------------------+\n",
      "\n"
     ]
    }
   ],
   "source": [
    "df_pyspark.show()"
   ]
  },
  {
   "cell_type": "code",
   "execution_count": 26,
   "id": "7929e008",
   "metadata": {},
   "outputs": [],
   "source": [
    "### Rename the columns\n",
    "df_pyspark = df_pyspark.withColumnRenamed('OrderID', 'Order_id')"
   ]
  },
  {
   "cell_type": "code",
   "execution_count": null,
   "id": "3eaff832",
   "metadata": {},
   "outputs": [],
   "source": []
  }
 ],
 "metadata": {
  "kernelspec": {
   "display_name": "Python 3",
   "language": "python",
   "name": "python3"
  },
  "language_info": {
   "codemirror_mode": {
    "name": "ipython",
    "version": 3
   },
   "file_extension": ".py",
   "mimetype": "text/x-python",
   "name": "python",
   "nbconvert_exporter": "python",
   "pygments_lexer": "ipython3",
   "version": "3.13.7"
  }
 },
 "nbformat": 4,
 "nbformat_minor": 5
}
