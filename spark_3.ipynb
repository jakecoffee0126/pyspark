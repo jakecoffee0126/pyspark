{
 "cells": [
  {
   "cell_type": "code",
   "execution_count": 1,
   "id": "c21bd9b2-a501-4298-a008-720499f09017",
   "metadata": {},
   "outputs": [],
   "source": [
    "from pyspark.sql import SparkSession"
   ]
  },
  {
   "cell_type": "code",
   "execution_count": 5,
   "id": "ae60a6ff-a51c-47e1-b1e2-f22cd386c30b",
   "metadata": {},
   "outputs": [],
   "source": [
    "spark=SparkSession.builder.appName('Practice').getOrCreate()"
   ]
  },
  {
   "cell_type": "code",
   "execution_count": 7,
   "id": "b9871864-a50d-4565-9a98-1bfefff72842",
   "metadata": {},
   "outputs": [],
   "source": [
    "df_pyspark=spark.read.csv('Orders.csv',header=True, inferSchema=True)"
   ]
  },
  {
   "cell_type": "code",
   "execution_count": 8,
   "id": "a7f3e62e-debf-4994-8bce-b6dcd57a8b61",
   "metadata": {},
   "outputs": [
    {
     "name": "stdout",
     "output_type": "stream",
     "text": [
      "root\n",
      " |-- OrderID: integer (nullable = true)\n",
      " |-- ProductID: integer (nullable = true)\n",
      " |-- CustomerID: integer (nullable = true)\n",
      " |-- SalesPersonID: integer (nullable = true)\n",
      " |-- OrderDate: date (nullable = true)\n",
      " |-- ShipDate: date (nullable = true)\n",
      " |-- OrderStatus: string (nullable = true)\n",
      " |-- ShipAddress: string (nullable = true)\n",
      " |-- BillAddress: string (nullable = true)\n",
      " |-- Quantity: integer (nullable = true)\n",
      " |-- Sales: integer (nullable = true)\n",
      " |-- CreationTime: timestamp (nullable = true)\n",
      "\n"
     ]
    }
   ],
   "source": [
    "df_pyspark.printSchema()"
   ]
  },
  {
   "cell_type": "code",
   "execution_count": 9,
   "id": "a26e0eaa-477e-4d53-85b5-f9bb02739d3b",
   "metadata": {},
   "outputs": [
    {
     "name": "stdout",
     "output_type": "stream",
     "text": [
      "+-------+---------+----------+-------------+----------+----------+-----------+------------------+-------------+--------+-----+-------------------+\n",
      "|OrderID|ProductID|CustomerID|SalesPersonID| OrderDate|  ShipDate|OrderStatus|       ShipAddress|  BillAddress|Quantity|Sales|       CreationTime|\n",
      "+-------+---------+----------+-------------+----------+----------+-----------+------------------+-------------+--------+-----+-------------------+\n",
      "|      1|      101|         2|            3|2025-01-01|2025-01-05|  Delivered|9833 Mt. Dias Blv.|1226 Shoe St.|       1|   10|2025-01-01 12:34:56|\n",
      "|      2|      102|         3|            3|2025-01-05|2025-01-10|    Shipped|    250 Race Court|         NULL|       1|   15|2025-01-05 23:22:04|\n",
      "|      3|      101|         1|            5|2025-01-10|2025-01-25|  Delivered|      8157 W. Book| 8157 W. Book|       2|   20|2025-01-10 18:24:08|\n",
      "|      4|      105|         1|            3|2025-01-20|2025-01-25|    Shipped| 5724 Victory Lane|         NULL|       2|   60|2025-01-20 05:50:33|\n",
      "|      5|      104|         2|            5|2025-02-01|2025-02-05|  Delivered|              NULL|         NULL|       1|   25|2025-02-01 14:02:41|\n",
      "|      6|      104|         3|            5|2025-02-05|2025-02-10|  Delivered|  1792 Belmont Rd.|         NULL|       2|   50|2025-02-06 15:34:57|\n",
      "|      7|      102|         1|            1|2025-02-15|2025-02-27|  Delivered|  136 Balboa Court|         NULL|       2|   30|2025-02-16 06:22:01|\n",
      "|      8|      101|         4|            3|2025-02-18|2025-02-27|    Shipped|    2947 Vine Lane| 4311 Clay Rd|       3|   90|2025-02-18 10:45:22|\n",
      "|      9|      101|         2|            3|2025-03-10|2025-03-15|    Shipped|     3768 Door Way|         NULL|       2|   20|2025-03-10 12:59:04|\n",
      "|     10|      102|         3|            5|2025-03-15|2025-03-20|    Shipped|              NULL|         NULL|       0|   60|2025-03-16 23:25:15|\n",
      "+-------+---------+----------+-------------+----------+----------+-----------+------------------+-------------+--------+-----+-------------------+\n",
      "\n"
     ]
    }
   ],
   "source": [
    "df_pyspark.show()"
   ]
  },
  {
   "cell_type": "code",
   "execution_count": 10,
   "id": "4ee86d20-2c81-4664-b039-464aa31b5943",
   "metadata": {},
   "outputs": [
    {
     "data": {
      "text/plain": [
       "DataFrame[OrderID: int, CustomerID: int, SalesPersonID: int, OrderDate: date, ShipDate: date, OrderStatus: string, ShipAddress: string, BillAddress: string, Quantity: int, Sales: int, CreationTime: timestamp]"
      ]
     },
     "execution_count": 10,
     "metadata": {},
     "output_type": "execute_result"
    }
   ],
   "source": [
    "## drop the columns\n",
    "df_pyspark.drop('ProductID') #.show()"
   ]
  },
  {
   "cell_type": "code",
   "execution_count": 14,
   "id": "b2d486f6-7d26-442a-b50e-1d8e2fdfc07d",
   "metadata": {},
   "outputs": [
    {
     "name": "stdout",
     "output_type": "stream",
     "text": [
      "+-------+---------+----------+-------------+----------+----------+-----------+------------------+-------------+--------+-----+-------------------+\n",
      "|OrderID|ProductID|CustomerID|SalesPersonID| OrderDate|  ShipDate|OrderStatus|       ShipAddress|  BillAddress|Quantity|Sales|       CreationTime|\n",
      "+-------+---------+----------+-------------+----------+----------+-----------+------------------+-------------+--------+-----+-------------------+\n",
      "|      1|      101|         2|            3|2025-01-01|2025-01-05|  Delivered|9833 Mt. Dias Blv.|1226 Shoe St.|       1|   10|2025-01-01 12:34:56|\n",
      "|      3|      101|         1|            5|2025-01-10|2025-01-25|  Delivered|      8157 W. Book| 8157 W. Book|       2|   20|2025-01-10 18:24:08|\n",
      "|      8|      101|         4|            3|2025-02-18|2025-02-27|    Shipped|    2947 Vine Lane| 4311 Clay Rd|       3|   90|2025-02-18 10:45:22|\n",
      "+-------+---------+----------+-------------+----------+----------+-----------+------------------+-------------+--------+-----+-------------------+\n",
      "\n"
     ]
    }
   ],
   "source": [
    "df_pyspark.na.drop().show()"
   ]
  },
  {
   "cell_type": "code",
   "execution_count": 15,
   "id": "e38c1745-ba11-448e-82fe-e6731afafb50",
   "metadata": {},
   "outputs": [
    {
     "name": "stdout",
     "output_type": "stream",
     "text": [
      "+-------+---------+----------+-------------+----------+----------+-----------+------------------+-------------+--------+-----+-------------------+\n",
      "|OrderID|ProductID|CustomerID|SalesPersonID| OrderDate|  ShipDate|OrderStatus|       ShipAddress|  BillAddress|Quantity|Sales|       CreationTime|\n",
      "+-------+---------+----------+-------------+----------+----------+-----------+------------------+-------------+--------+-----+-------------------+\n",
      "|      1|      101|         2|            3|2025-01-01|2025-01-05|  Delivered|9833 Mt. Dias Blv.|1226 Shoe St.|       1|   10|2025-01-01 12:34:56|\n",
      "|      3|      101|         1|            5|2025-01-10|2025-01-25|  Delivered|      8157 W. Book| 8157 W. Book|       2|   20|2025-01-10 18:24:08|\n",
      "|      8|      101|         4|            3|2025-02-18|2025-02-27|    Shipped|    2947 Vine Lane| 4311 Clay Rd|       3|   90|2025-02-18 10:45:22|\n",
      "+-------+---------+----------+-------------+----------+----------+-----------+------------------+-------------+--------+-----+-------------------+\n",
      "\n"
     ]
    }
   ],
   "source": [
    "## drop the null value\n",
    "df_pyspark.na.drop()#.show()"
   ]
  },
  {
   "cell_type": "code",
   "execution_count": 16,
   "id": "fd3c3654-70c4-4bdf-8e8e-cd9a07fc866c",
   "metadata": {},
   "outputs": [
    {
     "name": "stdout",
     "output_type": "stream",
     "text": [
      "+-------+---------+----------+-------------+----------+----------+-----------+------------------+-------------+--------+-----+-------------------+\n",
      "|OrderID|ProductID|CustomerID|SalesPersonID| OrderDate|  ShipDate|OrderStatus|       ShipAddress|  BillAddress|Quantity|Sales|       CreationTime|\n",
      "+-------+---------+----------+-------------+----------+----------+-----------+------------------+-------------+--------+-----+-------------------+\n",
      "|      1|      101|         2|            3|2025-01-01|2025-01-05|  Delivered|9833 Mt. Dias Blv.|1226 Shoe St.|       1|   10|2025-01-01 12:34:56|\n",
      "|      2|      102|         3|            3|2025-01-05|2025-01-10|    Shipped|    250 Race Court|         NULL|       1|   15|2025-01-05 23:22:04|\n",
      "|      3|      101|         1|            5|2025-01-10|2025-01-25|  Delivered|      8157 W. Book| 8157 W. Book|       2|   20|2025-01-10 18:24:08|\n",
      "|      4|      105|         1|            3|2025-01-20|2025-01-25|    Shipped| 5724 Victory Lane|         NULL|       2|   60|2025-01-20 05:50:33|\n",
      "|      5|      104|         2|            5|2025-02-01|2025-02-05|  Delivered|              NULL|         NULL|       1|   25|2025-02-01 14:02:41|\n",
      "|      6|      104|         3|            5|2025-02-05|2025-02-10|  Delivered|  1792 Belmont Rd.|         NULL|       2|   50|2025-02-06 15:34:57|\n",
      "|      7|      102|         1|            1|2025-02-15|2025-02-27|  Delivered|  136 Balboa Court|         NULL|       2|   30|2025-02-16 06:22:01|\n",
      "|      8|      101|         4|            3|2025-02-18|2025-02-27|    Shipped|    2947 Vine Lane| 4311 Clay Rd|       3|   90|2025-02-18 10:45:22|\n",
      "|      9|      101|         2|            3|2025-03-10|2025-03-15|    Shipped|     3768 Door Way|         NULL|       2|   20|2025-03-10 12:59:04|\n",
      "|     10|      102|         3|            5|2025-03-15|2025-03-20|    Shipped|              NULL|         NULL|       0|   60|2025-03-16 23:25:15|\n",
      "+-------+---------+----------+-------------+----------+----------+-----------+------------------+-------------+--------+-----+-------------------+\n",
      "\n"
     ]
    }
   ],
   "source": [
    "df_pyspark.na.drop(how=\"all\")#.show(), the original table doesnt have the all null value"
   ]
  },
  {
   "cell_type": "code",
   "execution_count": 17,
   "id": "f72f404c-2f03-48cb-af87-4434f1b35d47",
   "metadata": {},
   "outputs": [
    {
     "name": "stdout",
     "output_type": "stream",
     "text": [
      "+-------+---------+----------+-------------+----------+----------+-----------+------------------+-------------+--------+-----+-------------------+\n",
      "|OrderID|ProductID|CustomerID|SalesPersonID| OrderDate|  ShipDate|OrderStatus|       ShipAddress|  BillAddress|Quantity|Sales|       CreationTime|\n",
      "+-------+---------+----------+-------------+----------+----------+-----------+------------------+-------------+--------+-----+-------------------+\n",
      "|      1|      101|         2|            3|2025-01-01|2025-01-05|  Delivered|9833 Mt. Dias Blv.|1226 Shoe St.|       1|   10|2025-01-01 12:34:56|\n",
      "|      2|      102|         3|            3|2025-01-05|2025-01-10|    Shipped|    250 Race Court|         NULL|       1|   15|2025-01-05 23:22:04|\n",
      "|      3|      101|         1|            5|2025-01-10|2025-01-25|  Delivered|      8157 W. Book| 8157 W. Book|       2|   20|2025-01-10 18:24:08|\n",
      "|      4|      105|         1|            3|2025-01-20|2025-01-25|    Shipped| 5724 Victory Lane|         NULL|       2|   60|2025-01-20 05:50:33|\n",
      "|      5|      104|         2|            5|2025-02-01|2025-02-05|  Delivered|              NULL|         NULL|       1|   25|2025-02-01 14:02:41|\n",
      "|      6|      104|         3|            5|2025-02-05|2025-02-10|  Delivered|  1792 Belmont Rd.|         NULL|       2|   50|2025-02-06 15:34:57|\n",
      "|      7|      102|         1|            1|2025-02-15|2025-02-27|  Delivered|  136 Balboa Court|         NULL|       2|   30|2025-02-16 06:22:01|\n",
      "|      8|      101|         4|            3|2025-02-18|2025-02-27|    Shipped|    2947 Vine Lane| 4311 Clay Rd|       3|   90|2025-02-18 10:45:22|\n",
      "|      9|      101|         2|            3|2025-03-10|2025-03-15|    Shipped|     3768 Door Way|         NULL|       2|   20|2025-03-10 12:59:04|\n",
      "|     10|      102|         3|            5|2025-03-15|2025-03-20|    Shipped|              NULL|         NULL|       0|   60|2025-03-16 23:25:15|\n",
      "+-------+---------+----------+-------------+----------+----------+-----------+------------------+-------------+--------+-----+-------------------+\n",
      "\n"
     ]
    }
   ],
   "source": [
    "df_pyspark.na.drop(how=\"any\",thresh=2).show() #thresh=2. at least two non-null value present, no data got delete, beacuse every row has at least non-null value"
   ]
  },
  {
   "cell_type": "code",
   "execution_count": 18,
   "id": "bc4398bc-7943-4926-8857-28682313a478",
   "metadata": {},
   "outputs": [
    {
     "name": "stdout",
     "output_type": "stream",
     "text": [
      "+-------+---------+----------+-------------+----------+----------+-----------+------------------+-------------+--------+-----+-------------------+\n",
      "|OrderID|ProductID|CustomerID|SalesPersonID| OrderDate|  ShipDate|OrderStatus|       ShipAddress|  BillAddress|Quantity|Sales|       CreationTime|\n",
      "+-------+---------+----------+-------------+----------+----------+-----------+------------------+-------------+--------+-----+-------------------+\n",
      "|      1|      101|         2|            3|2025-01-01|2025-01-05|  Delivered|9833 Mt. Dias Blv.|1226 Shoe St.|       1|   10|2025-01-01 12:34:56|\n",
      "|      2|      102|         3|            3|2025-01-05|2025-01-10|    Shipped|    250 Race Court|         NULL|       1|   15|2025-01-05 23:22:04|\n",
      "|      3|      101|         1|            5|2025-01-10|2025-01-25|  Delivered|      8157 W. Book| 8157 W. Book|       2|   20|2025-01-10 18:24:08|\n",
      "|      4|      105|         1|            3|2025-01-20|2025-01-25|    Shipped| 5724 Victory Lane|         NULL|       2|   60|2025-01-20 05:50:33|\n",
      "|      6|      104|         3|            5|2025-02-05|2025-02-10|  Delivered|  1792 Belmont Rd.|         NULL|       2|   50|2025-02-06 15:34:57|\n",
      "|      7|      102|         1|            1|2025-02-15|2025-02-27|  Delivered|  136 Balboa Court|         NULL|       2|   30|2025-02-16 06:22:01|\n",
      "|      8|      101|         4|            3|2025-02-18|2025-02-27|    Shipped|    2947 Vine Lane| 4311 Clay Rd|       3|   90|2025-02-18 10:45:22|\n",
      "|      9|      101|         2|            3|2025-03-10|2025-03-15|    Shipped|     3768 Door Way|         NULL|       2|   20|2025-03-10 12:59:04|\n",
      "+-------+---------+----------+-------------+----------+----------+-----------+------------------+-------------+--------+-----+-------------------+\n",
      "\n"
     ]
    }
   ],
   "source": [
    "df_pyspark.na.drop(how=\"any\",thresh=11).show()"
   ]
  },
  {
   "cell_type": "code",
   "execution_count": 19,
   "id": "8207cc48-a4f2-465f-989b-19ebe9c3443d",
   "metadata": {},
   "outputs": [
    {
     "name": "stdout",
     "output_type": "stream",
     "text": [
      "+-------+---------+----------+-------------+----------+----------+-----------+------------------+-------------+--------+-----+-------------------+\n",
      "|OrderID|ProductID|CustomerID|SalesPersonID| OrderDate|  ShipDate|OrderStatus|       ShipAddress|  BillAddress|Quantity|Sales|       CreationTime|\n",
      "+-------+---------+----------+-------------+----------+----------+-----------+------------------+-------------+--------+-----+-------------------+\n",
      "|      1|      101|         2|            3|2025-01-01|2025-01-05|  Delivered|9833 Mt. Dias Blv.|1226 Shoe St.|       1|   10|2025-01-01 12:34:56|\n",
      "|      2|      102|         3|            3|2025-01-05|2025-01-10|    Shipped|    250 Race Court|         NULL|       1|   15|2025-01-05 23:22:04|\n",
      "|      3|      101|         1|            5|2025-01-10|2025-01-25|  Delivered|      8157 W. Book| 8157 W. Book|       2|   20|2025-01-10 18:24:08|\n",
      "|      4|      105|         1|            3|2025-01-20|2025-01-25|    Shipped| 5724 Victory Lane|         NULL|       2|   60|2025-01-20 05:50:33|\n",
      "|      6|      104|         3|            5|2025-02-05|2025-02-10|  Delivered|  1792 Belmont Rd.|         NULL|       2|   50|2025-02-06 15:34:57|\n",
      "|      7|      102|         1|            1|2025-02-15|2025-02-27|  Delivered|  136 Balboa Court|         NULL|       2|   30|2025-02-16 06:22:01|\n",
      "|      8|      101|         4|            3|2025-02-18|2025-02-27|    Shipped|    2947 Vine Lane| 4311 Clay Rd|       3|   90|2025-02-18 10:45:22|\n",
      "|      9|      101|         2|            3|2025-03-10|2025-03-15|    Shipped|     3768 Door Way|         NULL|       2|   20|2025-03-10 12:59:04|\n",
      "+-------+---------+----------+-------------+----------+----------+-----------+------------------+-------------+--------+-----+-------------------+\n",
      "\n"
     ]
    }
   ],
   "source": [
    "df_pyspark.na.drop(how=\"any\", subset=[\"ShipAddress\"]).show()# subset, Drop rows with null and NaN values in the specified columns."
   ]
  },
  {
   "cell_type": "code",
   "execution_count": 20,
   "id": "bf9875bb-0359-4f66-ae83-1a748945f287",
   "metadata": {},
   "outputs": [
    {
     "name": "stdout",
     "output_type": "stream",
     "text": [
      "+-------+---------+----------+-------------+----------+----------+-----------+------------------+-------------+--------+-----+-------------------+\n",
      "|OrderID|ProductID|CustomerID|SalesPersonID| OrderDate|  ShipDate|OrderStatus|       ShipAddress|  BillAddress|Quantity|Sales|       CreationTime|\n",
      "+-------+---------+----------+-------------+----------+----------+-----------+------------------+-------------+--------+-----+-------------------+\n",
      "|      1|      101|         2|            3|2025-01-01|2025-01-05|  Delivered|9833 Mt. Dias Blv.|1226 Shoe St.|       1|   10|2025-01-01 12:34:56|\n",
      "|      2|      102|         3|            3|2025-01-05|2025-01-10|    Shipped|    250 Race Court|missing vlaue|       1|   15|2025-01-05 23:22:04|\n",
      "|      3|      101|         1|            5|2025-01-10|2025-01-25|  Delivered|      8157 W. Book| 8157 W. Book|       2|   20|2025-01-10 18:24:08|\n",
      "|      4|      105|         1|            3|2025-01-20|2025-01-25|    Shipped| 5724 Victory Lane|missing vlaue|       2|   60|2025-01-20 05:50:33|\n",
      "|      5|      104|         2|            5|2025-02-01|2025-02-05|  Delivered|     missing vlaue|missing vlaue|       1|   25|2025-02-01 14:02:41|\n",
      "|      6|      104|         3|            5|2025-02-05|2025-02-10|  Delivered|  1792 Belmont Rd.|missing vlaue|       2|   50|2025-02-06 15:34:57|\n",
      "|      7|      102|         1|            1|2025-02-15|2025-02-27|  Delivered|  136 Balboa Court|missing vlaue|       2|   30|2025-02-16 06:22:01|\n",
      "|      8|      101|         4|            3|2025-02-18|2025-02-27|    Shipped|    2947 Vine Lane| 4311 Clay Rd|       3|   90|2025-02-18 10:45:22|\n",
      "|      9|      101|         2|            3|2025-03-10|2025-03-15|    Shipped|     3768 Door Way|missing vlaue|       2|   20|2025-03-10 12:59:04|\n",
      "|     10|      102|         3|            5|2025-03-15|2025-03-20|    Shipped|     missing vlaue|missing vlaue|       0|   60|2025-03-16 23:25:15|\n",
      "+-------+---------+----------+-------------+----------+----------+-----------+------------------+-------------+--------+-----+-------------------+\n",
      "\n"
     ]
    }
   ],
   "source": [
    "### filling the missing value\n",
    "df_pyspark.na.fill('missing value', ['ShipAddress', 'BillAddress']).show()"
   ]
  },
  {
   "cell_type": "code",
   "execution_count": 21,
   "id": "6277c9cd-53eb-4a43-9ed5-15fa7fa50f37",
   "metadata": {},
   "outputs": [],
   "source": [
    "from pyspark.ml.feature import Imputer\n"
   ]
  },
  {
   "cell_type": "code",
   "execution_count": 24,
   "id": "ae7bacf2-2b8b-4dfa-8d16-a1dfbb6f71d9",
   "metadata": {},
   "outputs": [],
   "source": [
    "imputer = Imputer(\n",
    "    inputCols=['Quantity', 'Sales'],\n",
    "    outputCols=[\"{}_imputed\".format(c) for c in ['Quantity', 'Sales']]\n",
    ").setStrategy(\"median\")"
   ]
  },
  {
   "cell_type": "code",
   "execution_count": 25,
   "id": "3a7f3045-80be-43f0-817b-5557505b7ac0",
   "metadata": {},
   "outputs": [
    {
     "name": "stdout",
     "output_type": "stream",
     "text": [
      "+-------+---------+----------+-------------+----------+----------+-----------+------------------+-------------+--------+-----+-------------------+----------------+-------------+\n",
      "|OrderID|ProductID|CustomerID|SalesPersonID| OrderDate|  ShipDate|OrderStatus|       ShipAddress|  BillAddress|Quantity|Sales|       CreationTime|Quantity_imputed|Sales_imputed|\n",
      "+-------+---------+----------+-------------+----------+----------+-----------+------------------+-------------+--------+-----+-------------------+----------------+-------------+\n",
      "|      1|      101|         2|            3|2025-01-01|2025-01-05|  Delivered|9833 Mt. Dias Blv.|1226 Shoe St.|       1|   10|2025-01-01 12:34:56|               1|           10|\n",
      "|      2|      102|         3|            3|2025-01-05|2025-01-10|    Shipped|    250 Race Court|         NULL|       1|   15|2025-01-05 23:22:04|               1|           15|\n",
      "|      3|      101|         1|            5|2025-01-10|2025-01-25|  Delivered|      8157 W. Book| 8157 W. Book|       2|   20|2025-01-10 18:24:08|               2|           20|\n",
      "|      4|      105|         1|            3|2025-01-20|2025-01-25|    Shipped| 5724 Victory Lane|         NULL|       2|   60|2025-01-20 05:50:33|               2|           60|\n",
      "|      5|      104|         2|            5|2025-02-01|2025-02-05|  Delivered|              NULL|         NULL|       1|   25|2025-02-01 14:02:41|               1|           25|\n",
      "|      6|      104|         3|            5|2025-02-05|2025-02-10|  Delivered|  1792 Belmont Rd.|         NULL|       2|   50|2025-02-06 15:34:57|               2|           50|\n",
      "|      7|      102|         1|            1|2025-02-15|2025-02-27|  Delivered|  136 Balboa Court|         NULL|       2|   30|2025-02-16 06:22:01|               2|           30|\n",
      "|      8|      101|         4|            3|2025-02-18|2025-02-27|    Shipped|    2947 Vine Lane| 4311 Clay Rd|       3|   90|2025-02-18 10:45:22|               3|           90|\n",
      "|      9|      101|         2|            3|2025-03-10|2025-03-15|    Shipped|     3768 Door Way|         NULL|       2|   20|2025-03-10 12:59:04|               2|           20|\n",
      "|     10|      102|         3|            5|2025-03-15|2025-03-20|    Shipped|              NULL|         NULL|       0|   60|2025-03-16 23:25:15|               0|           60|\n",
      "+-------+---------+----------+-------------+----------+----------+-----------+------------------+-------------+--------+-----+-------------------+----------------+-------------+\n",
      "\n"
     ]
    }
   ],
   "source": [
    "# Add imputation cols to df\n",
    "imputer.fit(df_pyspark).transform(df_pyspark).show()"
   ]
  },
  {
   "cell_type": "code",
   "execution_count": null,
   "id": "652f486e-9ab8-4ccb-9198-12f3cb87c747",
   "metadata": {},
   "outputs": [],
   "source": []
  }
 ],
 "metadata": {
  "kernelspec": {
   "display_name": "Python 3 (ipykernel)",
   "language": "python",
   "name": "python3"
  },
  "language_info": {
   "codemirror_mode": {
    "name": "ipython",
    "version": 3
   },
   "file_extension": ".py",
   "mimetype": "text/x-python",
   "name": "python",
   "nbconvert_exporter": "python",
   "pygments_lexer": "ipython3",
   "version": "3.13.7"
  }
 },
 "nbformat": 4,
 "nbformat_minor": 5
}
