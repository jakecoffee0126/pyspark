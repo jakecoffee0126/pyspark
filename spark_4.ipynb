{
 "cells": [
  {
   "cell_type": "code",
   "execution_count": 2,
   "id": "2fd63590",
   "metadata": {},
   "outputs": [],
   "source": [
    "from pyspark.sql import SparkSession"
   ]
  },
  {
   "cell_type": "code",
   "execution_count": 3,
   "id": "94f7d607",
   "metadata": {},
   "outputs": [],
   "source": [
    "spark=SparkSession.builder.appName('dataframe').getOrCreate()"
   ]
  },
  {
   "cell_type": "code",
   "execution_count": 5,
   "id": "67b54856",
   "metadata": {},
   "outputs": [
    {
     "name": "stdout",
     "output_type": "stream",
     "text": [
      "+-------+---------+----------+-------------+----------+----------+-----------+------------------+-------------+--------+-----+-------------------+\n",
      "|OrderID|ProductID|CustomerID|SalesPersonID| OrderDate|  ShipDate|OrderStatus|       ShipAddress|  BillAddress|Quantity|Sales|       CreationTime|\n",
      "+-------+---------+----------+-------------+----------+----------+-----------+------------------+-------------+--------+-----+-------------------+\n",
      "|      1|      101|         2|            3|2025-01-01|2025-01-05|  Delivered|9833 Mt. Dias Blv.|1226 Shoe St.|       1|   10|2025-01-01 12:34:56|\n",
      "|      2|      102|         3|            3|2025-01-05|2025-01-10|    Shipped|    250 Race Court|         NULL|       1|   15|2025-01-05 23:22:04|\n",
      "|      3|      101|         1|            5|2025-01-10|2025-01-25|  Delivered|      8157 W. Book| 8157 W. Book|       2|   20|2025-01-10 18:24:08|\n",
      "|      4|      105|         1|            3|2025-01-20|2025-01-25|    Shipped| 5724 Victory Lane|         NULL|       2|   60|2025-01-20 05:50:33|\n",
      "|      5|      104|         2|            5|2025-02-01|2025-02-05|  Delivered|              NULL|         NULL|       1|   25|2025-02-01 14:02:41|\n",
      "|      6|      104|         3|            5|2025-02-05|2025-02-10|  Delivered|  1792 Belmont Rd.|         NULL|       2| NULL|2025-02-06 15:34:57|\n",
      "|      7|      102|         1|            1|2025-02-15|2025-02-27|  Delivered|  136 Balboa Court|         NULL|       2|   30|2025-02-16 06:22:01|\n",
      "|      8|      101|         4|            3|2025-02-18|2025-02-27|    Shipped|    2947 Vine Lane| 4311 Clay Rd|       3|   90|2025-02-18 10:45:22|\n",
      "|      9|      101|         2|            3|2025-03-10|2025-03-15|    Shipped|     3768 Door Way|         NULL|       2|   20|2025-03-10 12:59:04|\n",
      "|     10|      102|         3|            5|2025-03-15|2025-03-20|    Shipped|              NULL|         NULL|       0|   60|2025-03-16 23:25:15|\n",
      "+-------+---------+----------+-------------+----------+----------+-----------+------------------+-------------+--------+-----+-------------------+\n",
      "\n"
     ]
    }
   ],
   "source": [
    "df_pyspark = spark.read.csv('Orders.csv', header=True, inferSchema=True)\n",
    "df_pyspark.show()"
   ]
  },
  {
   "cell_type": "markdown",
   "id": "98789fb3",
   "metadata": {},
   "source": [
    "### filter Operations"
   ]
  },
  {
   "cell_type": "markdown",
   "id": "0ccbca1c",
   "metadata": {},
   "source": []
  },
  {
   "cell_type": "code",
   "execution_count": 8,
   "id": "0236ddcd",
   "metadata": {},
   "outputs": [
    {
     "name": "stdout",
     "output_type": "stream",
     "text": [
      "+-------+---------+----------+-------------+----------+----------+-----------+------------------+-------------+--------+-----+-------------------+\n",
      "|OrderID|ProductID|CustomerID|SalesPersonID| OrderDate|  ShipDate|OrderStatus|       ShipAddress|  BillAddress|Quantity|Sales|       CreationTime|\n",
      "+-------+---------+----------+-------------+----------+----------+-----------+------------------+-------------+--------+-----+-------------------+\n",
      "|      1|      101|         2|            3|2025-01-01|2025-01-05|  Delivered|9833 Mt. Dias Blv.|1226 Shoe St.|       1|   10|2025-01-01 12:34:56|\n",
      "|      2|      102|         3|            3|2025-01-05|2025-01-10|    Shipped|    250 Race Court|         NULL|       1|   15|2025-01-05 23:22:04|\n",
      "|      3|      101|         1|            5|2025-01-10|2025-01-25|  Delivered|      8157 W. Book| 8157 W. Book|       2|   20|2025-01-10 18:24:08|\n",
      "|      9|      101|         2|            3|2025-03-10|2025-03-15|    Shipped|     3768 Door Way|         NULL|       2|   20|2025-03-10 12:59:04|\n",
      "+-------+---------+----------+-------------+----------+----------+-----------+------------------+-------------+--------+-----+-------------------+\n",
      "\n"
     ]
    }
   ],
   "source": [
    "### Sales of the people less than or equal to 20\n",
    "df_pyspark.filter(\"Sales <= 20\").show()"
   ]
  },
  {
   "cell_type": "code",
   "execution_count": 9,
   "id": "349e5c7d",
   "metadata": {},
   "outputs": [
    {
     "name": "stdout",
     "output_type": "stream",
     "text": [
      "+-----------+------------------+\n",
      "|OrderStatus|       ShipAddress|\n",
      "+-----------+------------------+\n",
      "|  Delivered|9833 Mt. Dias Blv.|\n",
      "|    Shipped|    250 Race Court|\n",
      "|  Delivered|      8157 W. Book|\n",
      "|    Shipped|     3768 Door Way|\n",
      "+-----------+------------------+\n",
      "\n"
     ]
    }
   ],
   "source": [
    "df_pyspark.filter(\"Sales <= 20\").select(['OrderStatus', 'ShipAddress']).show()"
   ]
  },
  {
   "cell_type": "code",
   "execution_count": 12,
   "id": "bbd8ba96",
   "metadata": {},
   "outputs": [
    {
     "name": "stdout",
     "output_type": "stream",
     "text": [
      "+-------+---------+----------+-------------+----------+----------+-----------+------------------+-------------+--------+-----+-------------------+\n",
      "|OrderID|ProductID|CustomerID|SalesPersonID| OrderDate|  ShipDate|OrderStatus|       ShipAddress|  BillAddress|Quantity|Sales|       CreationTime|\n",
      "+-------+---------+----------+-------------+----------+----------+-----------+------------------+-------------+--------+-----+-------------------+\n",
      "|      1|      101|         2|            3|2025-01-01|2025-01-05|  Delivered|9833 Mt. Dias Blv.|1226 Shoe St.|       1|   10|2025-01-01 12:34:56|\n",
      "|      2|      102|         3|            3|2025-01-05|2025-01-10|    Shipped|    250 Race Court|         NULL|       1|   15|2025-01-05 23:22:04|\n",
      "+-------+---------+----------+-------------+----------+----------+-----------+------------------+-------------+--------+-----+-------------------+\n",
      "\n"
     ]
    }
   ],
   "source": [
    "df_pyspark.filter((df_pyspark['Sales']<=20) & \n",
    "                  (df_pyspark['Quantity'] <2)).show()"
   ]
  },
  {
   "cell_type": "code",
   "execution_count": null,
   "id": "a09d7715",
   "metadata": {},
   "outputs": [
    {
     "name": "stdout",
     "output_type": "stream",
     "text": [
      "+-------+---------+----------+-------------+----------+----------+-----------+-----------------+------------+--------+-----+-------------------+\n",
      "|OrderID|ProductID|CustomerID|SalesPersonID| OrderDate|  ShipDate|OrderStatus|      ShipAddress| BillAddress|Quantity|Sales|       CreationTime|\n",
      "+-------+---------+----------+-------------+----------+----------+-----------+-----------------+------------+--------+-----+-------------------+\n",
      "|      4|      105|         1|            3|2025-01-20|2025-01-25|    Shipped|5724 Victory Lane|        NULL|       2|   60|2025-01-20 05:50:33|\n",
      "|      5|      104|         2|            5|2025-02-01|2025-02-05|  Delivered|             NULL|        NULL|       1|   25|2025-02-01 14:02:41|\n",
      "|      7|      102|         1|            1|2025-02-15|2025-02-27|  Delivered| 136 Balboa Court|        NULL|       2|   30|2025-02-16 06:22:01|\n",
      "|      8|      101|         4|            3|2025-02-18|2025-02-27|    Shipped|   2947 Vine Lane|4311 Clay Rd|       3|   90|2025-02-18 10:45:22|\n",
      "|     10|      102|         3|            5|2025-03-15|2025-03-20|    Shipped|             NULL|        NULL|       0|   60|2025-03-16 23:25:15|\n",
      "+-------+---------+----------+-------------+----------+----------+-----------+-----------------+------------+--------+-----+-------------------+\n",
      "\n"
     ]
    }
   ],
   "source": [
    "df_pyspark.filter(~(df_pyspark['Sales'] <= 20)).show()# NOT condition"
   ]
  },
  {
   "cell_type": "code",
   "execution_count": null,
   "id": "1d06205e",
   "metadata": {},
   "outputs": [],
   "source": []
  }
 ],
 "metadata": {
  "kernelspec": {
   "display_name": "Python 3",
   "language": "python",
   "name": "python3"
  },
  "language_info": {
   "codemirror_mode": {
    "name": "ipython",
    "version": 3
   },
   "file_extension": ".py",
   "mimetype": "text/x-python",
   "name": "python",
   "nbconvert_exporter": "python",
   "pygments_lexer": "ipython3",
   "version": "3.13.7"
  }
 },
 "nbformat": 4,
 "nbformat_minor": 5
}
